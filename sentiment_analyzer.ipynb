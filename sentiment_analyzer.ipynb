{
 "cells": [
  {
   "cell_type": "code",
   "execution_count": 2,
   "metadata": {},
   "outputs": [
    {
     "name": "stdout",
     "output_type": "stream",
     "text": [
      "Working on enwiki-latest-pages-articles1.xml-p1p30303.bz2\n",
      "Got the text corpus\n"
     ]
    }
   ],
   "source": [
    "import sys\n",
    "import warnings\n",
    "warnings.filterwarnings(action='ignore', category=UserWarning, module='gensim')\n",
    "from gensim.corpora import WikiCorpus\n",
    "\n",
    "in_f = \"enwiki-latest-pages-articles1.xml-p1p30303.bz2\"\n",
    "print(\"Working on\", in_f)\n",
    "wiki = WikiCorpus(in_f)\n",
    "print(\"Got the text corpus\")\n",
    "tokenized_sentences=list(wiki.get_texts())"
   ]
  },
  {
   "cell_type": "code",
   "execution_count": 4,
   "metadata": {},
   "outputs": [
    {
     "name": "stderr",
     "output_type": "stream",
     "text": [
      "[nltk_data] Downloading package punkt to\n",
      "[nltk_data]     C:\\Users\\atefe\\AppData\\Roaming\\nltk_data...\n",
      "[nltk_data]   Unzipping tokenizers\\punkt.zip.\n",
      "[nltk_data] Downloading package stopwords to\n",
      "[nltk_data]     C:\\Users\\atefe\\AppData\\Roaming\\nltk_data...\n",
      "[nltk_data]   Unzipping corpora\\stopwords.zip.\n",
      "[nltk_data] Downloading package wordnet to\n",
      "[nltk_data]     C:\\Users\\atefe\\AppData\\Roaming\\nltk_data...\n",
      "[nltk_data]   Unzipping corpora\\wordnet.zip.\n"
     ]
    },
    {
     "data": {
      "text/plain": [
       "True"
      ]
     },
     "execution_count": 4,
     "metadata": {},
     "output_type": "execute_result"
    }
   ],
   "source": [
    "import nltk\n",
    "import warnings\n",
    "from nltk.sentiment.vader import SentimentIntensityAnalyzer\n",
    "from nltk.tokenize import sent_tokenize\n",
    "from nltk.corpus import stopwords\n",
    "from nltk.stem import PorterStemmer\n",
    "from nltk.stem.wordnet import WordNetLemmatizer\n",
    "\n",
    "warnings.filterwarnings('ignore')\n",
    "nltk.download('punkt') # for tokenizing the text to sentences\n",
    "nltk.download('stopwords')\n",
    "nltk.download('wordnet')"
   ]
  },
  {
   "cell_type": "code",
   "execution_count": 10,
   "metadata": {},
   "outputs": [
    {
     "name": "stdout",
     "output_type": "stream",
     "text": [
      "14872\n",
      "5000\n"
     ]
    }
   ],
   "source": [
    "print(len(tokenized_sentences))\n",
    "\n",
    "### remove noise ###\n",
    "stop_words = set(stopwords.words(\"english\"))\n",
    "ps = PorterStemmer()\n",
    "lem = WordNetLemmatizer()\n",
    "filtered_sentences = []\n",
    "i = 0\n",
    "for sent in tokenized_sentences[:2000]:\n",
    "  curr_sent = []\n",
    "  for w in sent:\n",
    "    if w not in stop_words: # remove the common words\n",
    "        # sentences.append(ps.stem(w)) # reduce words to their roots (stemming) the result may not be an english word\n",
    "        curr_sent.append(lem.lemmatize(w,pos=\"v\")) # reduce words to their roots (lemmatization) the result is an english word\n",
    "  if len(curr_sent) > 0:\n",
    "    filtered_sentences.append(sent)      \n",
    "\n",
    "filtered_sentences = list(map(' '.join, filtered_sentences))       \n",
    "print(len(filtered_sentences))"
   ]
  },
  {
   "cell_type": "code",
   "execution_count": 6,
   "metadata": {},
   "outputs": [
    {
     "name": "stderr",
     "output_type": "stream",
     "text": [
      "[nltk_data] Downloading package vader_lexicon to\n",
      "[nltk_data]     C:\\Users\\atefe\\AppData\\Roaming\\nltk_data...\n",
      "[nltk_data]   Package vader_lexicon is already up-to-date!\n"
     ]
    }
   ],
   "source": [
    "warnings.filterwarnings('ignore')\n",
    "nltk.download('vader_lexicon') # for sentiment analyzer\n",
    "  \n",
    "sia = SentimentIntensityAnalyzer()"
   ]
  },
  {
   "cell_type": "code",
   "execution_count": 15,
   "metadata": {},
   "outputs": [
    {
     "name": "stdout",
     "output_type": "stream",
     "text": [
      "1\n",
      "compound: 0.996, neg: 0.099, neu: 0.791, pos: 0.11, "
     ]
    }
   ],
   "source": [
    "#print(filtered_sentences[0])\n",
    "tokenized_sent=sent_tokenize(filtered_sentences[0])\n",
    "print(len(tokenized_sent))\n",
    "sentiment = sia.polarity_scores(filtered_sentences[0])\n",
    "for k in sorted(sentiment):\n",
    "    print('{0}: {1}, '.format(k, sentiment[k]), end='')"
   ]
  },
  {
   "cell_type": "code",
   "execution_count": 17,
   "metadata": {},
   "outputs": [
    {
     "name": "stdout",
     "output_type": "stream",
     "text": [
      "5000\n"
     ]
    }
   ],
   "source": [
    "sentiment = [sia.polarity_scores(s) for s in filtered_sentences]\n",
    "print(len(sentiment))\n",
    "#for k in sorted(sentiment):\n",
    "#    print('{0}: {1}, '.format(k, sentiment[k]), end='')"
   ]
  },
  {
   "cell_type": "code",
   "execution_count": 19,
   "metadata": {},
   "outputs": [
    {
     "name": "stdout",
     "output_type": "stream",
     "text": [
      "compound: 1.0, neg: 0.04, neu: 0.755, pos: 0.204, "
     ]
    }
   ],
   "source": [
    "s = sentiment[10]\n",
    "for k in sorted(s):\n",
    "    print('{0}: {1}, '.format(k, s[k]), end='')"
   ]
  },
  {
   "cell_type": "code",
   "execution_count": 23,
   "metadata": {},
   "outputs": [
    {
     "name": "stdout",
     "output_type": "stream",
     "text": [
      "Average of the neutral scores: 0.8721908\n",
      "Average of the positive scores: 0.0757996\n",
      "Average of the negative scores: 0.0520086\n"
     ]
    }
   ],
   "source": [
    "#for ind, sent in enumerate(sentiment):\n",
    "#    print('Sentence {0}: {1},'.format(ind, sent['neu']), end='\\n')\n",
    "from statistics import mean\n",
    "\n",
    "print(\"Average of the neutral scores:\", mean([sent['neu'] for sent in sentiment]))\n",
    "print(\"Average of the positive scores:\", mean([sent['pos'] for sent in sentiment]))\n",
    "print(\"Average of the negative scores:\", mean([sent['neg'] for sent in sentiment]))"
   ]
  },
  {
   "cell_type": "code",
   "execution_count": null,
   "metadata": {},
   "outputs": [],
   "source": []
  }
 ],
 "metadata": {
  "kernelspec": {
   "display_name": "Python 3",
   "language": "python",
   "name": "python3"
  },
  "language_info": {
   "codemirror_mode": {
    "name": "ipython",
    "version": 3
   },
   "file_extension": ".py",
   "mimetype": "text/x-python",
   "name": "python",
   "nbconvert_exporter": "python",
   "pygments_lexer": "ipython3",
   "version": "3.7.6"
  }
 },
 "nbformat": 4,
 "nbformat_minor": 4
}
