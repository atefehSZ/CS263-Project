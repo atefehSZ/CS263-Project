{
 "cells": [
  {
   "cell_type": "code",
   "execution_count": 2,
   "metadata": {},
   "outputs": [
    {
     "name": "stdout",
     "output_type": "stream",
     "text": [
      "Working on enwiki-latest-pages-articles1.xml-p1p30303.bz2\n",
      "Got the text corpus\n"
     ]
    }
   ],
   "source": [
    "import sys\n",
    "import warnings\n",
    "warnings.filterwarnings(action='ignore', category=UserWarning, module='gensim')\n",
    "from gensim.corpora import WikiCorpus\n",
    "\n",
    "in_f = \"enwiki-latest-pages-articles1.xml-p1p30303.bz2\"\n",
    "print(\"Working on\", in_f)\n",
    "wiki = WikiCorpus(in_f)\n",
    "print(\"Got the text corpus\")\n",
    "tokenized_sentences=list(wiki.get_texts())"
   ]
  },
  {
   "cell_type": "code",
   "execution_count": 3,
   "metadata": {},
   "outputs": [
    {
     "name": "stderr",
     "output_type": "stream",
     "text": [
      "[nltk_data] Downloading package punkt to /home/davina/nltk_data...\n",
      "[nltk_data]   Package punkt is already up-to-date!\n",
      "[nltk_data] Downloading package stopwords to /home/davina/nltk_data...\n",
      "[nltk_data]   Unzipping corpora/stopwords.zip.\n",
      "[nltk_data] Downloading package wordnet to /home/davina/nltk_data...\n",
      "[nltk_data]   Unzipping corpora/wordnet.zip.\n"
     ]
    },
    {
     "data": {
      "text/plain": [
       "True"
      ]
     },
     "execution_count": 3,
     "metadata": {},
     "output_type": "execute_result"
    }
   ],
   "source": [
    "import nltk\n",
    "import warnings\n",
    "from nltk.sentiment.vader import SentimentIntensityAnalyzer\n",
    "from nltk.tokenize import sent_tokenize\n",
    "from nltk.corpus import stopwords\n",
    "from nltk.stem import PorterStemmer\n",
    "from nltk.stem.wordnet import WordNetLemmatizer\n",
    "\n",
    "warnings.filterwarnings('ignore')\n",
    "nltk.download('punkt') # for tokenizing the text to sentences\n",
    "nltk.download('stopwords')\n",
    "nltk.download('wordnet')"
   ]
  },
  {
   "cell_type": "code",
   "execution_count": 4,
   "metadata": {},
   "outputs": [
    {
     "name": "stdout",
     "output_type": "stream",
     "text": [
      "14872\n",
      "2000\n"
     ]
    }
   ],
   "source": [
    "print(len(tokenized_sentences))\n",
    "\n",
    "### remove noise ###\n",
    "stop_words = set(stopwords.words(\"english\"))\n",
    "ps = PorterStemmer()\n",
    "lem = WordNetLemmatizer()\n",
    "filtered_sentences = []\n",
    "i = 0\n",
    "for sent in tokenized_sentences[:2000]:\n",
    "  curr_sent = []\n",
    "  for w in sent:\n",
    "    if w not in stop_words: # remove the common words\n",
    "        # sentences.append(ps.stem(w)) # reduce words to their roots (stemming) the result may not be an english word\n",
    "        curr_sent.append(lem.lemmatize(w,pos=\"v\")) # reduce words to their roots (lemmatization) the result is an english word\n",
    "  if len(curr_sent) > 0:\n",
    "    filtered_sentences.append(sent)      \n",
    "\n",
    "filtered_sentences = list(map(' '.join, filtered_sentences))       \n",
    "print(len(filtered_sentences))"
   ]
  },
  {
   "cell_type": "code",
   "execution_count": 5,
   "metadata": {},
   "outputs": [
    {
     "name": "stderr",
     "output_type": "stream",
     "text": [
      "[nltk_data] Downloading package vader_lexicon to\n",
      "[nltk_data]     /home/davina/nltk_data...\n",
      "[nltk_data]   Package vader_lexicon is already up-to-date!\n"
     ]
    }
   ],
   "source": [
    "warnings.filterwarnings('ignore')\n",
    "nltk.download('vader_lexicon') # for sentiment analyzer\n",
    "  \n",
    "sia = SentimentIntensityAnalyzer()"
   ]
  },
  {
   "cell_type": "code",
   "execution_count": 6,
   "metadata": {},
   "outputs": [
    {
     "name": "stdout",
     "output_type": "stream",
     "text": [
      "1\n",
      "compound: 0.996, neg: 0.099, neu: 0.791, pos: 0.11, "
     ]
    }
   ],
   "source": [
    "#print(filtered_sentences[0])\n",
    "tokenized_sent=sent_tokenize(filtered_sentences[0])\n",
    "print(len(tokenized_sent))\n",
    "sentiment = sia.polarity_scores(filtered_sentences[0])\n",
    "for k in sorted(sentiment):\n",
    "    print('{0}: {1}, '.format(k, sentiment[k]), end='')"
   ]
  },
  {
   "cell_type": "code",
   "execution_count": 7,
   "metadata": {},
   "outputs": [
    {
     "name": "stdout",
     "output_type": "stream",
     "text": [
      "2000\n"
     ]
    }
   ],
   "source": [
    "sentiment = [sia.polarity_scores(s) for s in filtered_sentences]\n",
    "print(len(sentiment))\n",
    "#for k in sorted(sentiment):\n",
    "#    print('{0}: {1}, '.format(k, sentiment[k]), end='')"
   ]
  },
  {
   "cell_type": "code",
   "execution_count": 8,
   "metadata": {},
   "outputs": [
    {
     "name": "stdout",
     "output_type": "stream",
     "text": [
      "compound: 1.0, neg: 0.04, neu: 0.755, pos: 0.204, "
     ]
    }
   ],
   "source": [
    "s = sentiment[10]\n",
    "for k in sorted(s):\n",
    "    print('{0}: {1}, '.format(k, s[k]), end='')"
   ]
  },
  {
   "cell_type": "code",
   "execution_count": 9,
   "metadata": {},
   "outputs": [
    {
     "name": "stdout",
     "output_type": "stream",
     "text": [
      "Average of the neutral scores: 0.871778\n",
      "Average of the positive scores: 0.075306\n",
      "Average of the negative scores: 0.0529135\n",
      "Average of the compound scores: 0.40557845\n"
     ]
    }
   ],
   "source": [
    "#for ind, sent in enumerate(sentiment):\n",
    "#    print('Sentence {0}: {1},'.format(ind, sent['neu']), end='\\n')\n",
    "from statistics import mean\n",
    "\n",
    "print(\"Average of the neutral scores:\", mean([sent['neu'] for sent in sentiment]))\n",
    "print(\"Average of the positive scores:\", mean([sent['pos'] for sent in sentiment]))\n",
    "print(\"Average of the negative scores:\", mean([sent['neg'] for sent in sentiment]))\n",
    "print(\"Average of the compound scores:\", mean([sent['compound'] for sent in sentiment]))"
   ]
  },
  {
   "cell_type": "code",
   "execution_count": 10,
   "metadata": {},
   "outputs": [],
   "source": [
    "#articles = [(article, sia.polarity_scores(article)) for article in filtered_sentences]\n",
    "articles = []\n",
    "for article in filtered_sentences:\n",
    "    sentiment = sia.polarity_scores(article)\n",
    "    if sentiment['pos'] > sentiment['neg']:\n",
    "        articles.append((article, 'pos'))\n",
    "    else:\n",
    "        articles.append((article, 'neg'))    "
   ]
  },
  {
   "cell_type": "code",
   "execution_count": 11,
   "metadata": {},
   "outputs": [],
   "source": [
    "from nltk.tokenize import word_tokenize \n",
    "\n",
    "all_words_set = set(word.lower() for passage in articles for word in word_tokenize(passage[0]))\n",
    "all_words_list = list(word.lower() for passage in articles for word in word_tokenize(passage[0]))\n",
    "#t = [({word: (word in word_tokenize(x[0])) for word in all_words}, x[1]) for x in train]"
   ]
  },
  {
   "cell_type": "code",
   "execution_count": 12,
   "metadata": {},
   "outputs": [
    {
     "name": "stdout",
     "output_type": "stream",
     "text": [
      "173193 6431080\n",
      "173193 3987816\n"
     ]
    }
   ],
   "source": [
    "print(len(all_words_set), len(all_words_list))\n",
    "filtered_words_list = []\n",
    "for w in all_words_list:\n",
    "    if w not in stop_words: # remove the common words\n",
    "        filtered_words_list.append(lem.lemmatize(w,pos=\"v\"))\n",
    "print(len(all_words_set), len(filtered_words_list))\n"
   ]
  },
  {
   "cell_type": "code",
   "execution_count": 13,
   "metadata": {},
   "outputs": [
    {
     "name": "stdout",
     "output_type": "stream",
     "text": [
      "[('use', 19525), ('also', 17330), ('one', 14195), ('first', 13637), ('state', 12144), ('american', 11722), ('include', 10967), ('time', 10589), ('new', 10519), ('two', 10300), ('make', 9477), ('th', 8586), ('may', 8214), ('become', 7692), ('many', 7655), ('work', 7499), ('name', 7308), ('world', 7216), ('would', 7080), ('know', 6972), ('form', 6705), ('number', 6643), ('city', 6498), ('war', 6459), ('call', 6403), ('take', 6288), ('century', 6213), ('years', 6192), ('write', 6105), ('part', 5917)]\n"
     ]
    }
   ],
   "source": [
    "word_features = [word for (word,_) in (nltk.FreqDist(filtered_words_list)).most_common(5000)]\n",
    "word_list = (nltk.FreqDist(filtered_words_list)).most_common(5000)\n",
    "fdist = nltk.FreqDist(filtered_words_list)\n",
    "print(word_list[:30])\n",
    "# import matplotlib.pyplot as plt\n",
    "# fdist.plot(10,cumulative=False)\n",
    "# plt.show()"
   ]
  },
  {
   "cell_type": "code",
   "execution_count": 14,
   "metadata": {},
   "outputs": [],
   "source": [
    "from random import shuffle\n",
    "shuffle(articles)\n",
    "training_articles = articles[:4000]\n",
    "test_articles = articles[4000:]"
   ]
  },
  {
   "cell_type": "code",
   "execution_count": 15,
   "metadata": {},
   "outputs": [],
   "source": [
    "from nltk.sentiment import SentimentAnalyzer\n",
    "from nltk.sentiment.util import *\n",
    "\n",
    "sa = SentimentAnalyzer()\n",
    "unigram_features = sa.unigram_word_feats(word_features)\n",
    "sa.add_feat_extractor(extract_unigram_feats, unigrams=unigram_features)\n",
    "\n",
    "training_set = sa.apply_features(training_articles)\n",
    "test_set = sa.apply_features(test_articles)"
   ]
  },
  {
   "cell_type": "code",
   "execution_count": 16,
   "metadata": {},
   "outputs": [
    {
     "name": "stdout",
     "output_type": "stream",
     "text": [
      "Training classifier\n"
     ]
    }
   ],
   "source": [
    "from nltk.classify import NaiveBayesClassifier as NBC\n",
    "classfier = sa.train(NBC.train, training_set)"
   ]
  },
  {
   "cell_type": "code",
   "execution_count": 19,
   "metadata": {},
   "outputs": [
    {
     "name": "stdout",
     "output_type": "stream",
     "text": [
      "neg\n"
     ]
    }
   ],
   "source": [
    "print((articles[100])[1])"
   ]
  },
  {
   "cell_type": "code",
   "execution_count": 20,
   "metadata": {},
   "outputs": [
    {
     "name": "stdout",
     "output_type": "stream",
     "text": [
      "Evaluating NaiveBayesClassifier results...\n",
      "Accuracy: 0\n"
     ]
    }
   ],
   "source": [
    "for key, value in sorted(sa.evaluate(test_set).items()):\n",
    "    print('{0}: {1}'.format(key, value))"
   ]
  },
  {
   "cell_type": "code",
   "execution_count": null,
   "metadata": {},
   "outputs": [],
   "source": []
  }
 ],
 "metadata": {
  "kernelspec": {
   "display_name": "Python 3",
   "language": "python",
   "name": "python3"
  },
  "language_info": {
   "codemirror_mode": {
    "name": "ipython",
    "version": 3
   },
   "file_extension": ".py",
   "mimetype": "text/x-python",
   "name": "python",
   "nbconvert_exporter": "python",
   "pygments_lexer": "ipython3",
   "version": "3.7.4"
  }
 },
 "nbformat": 4,
 "nbformat_minor": 4
}
