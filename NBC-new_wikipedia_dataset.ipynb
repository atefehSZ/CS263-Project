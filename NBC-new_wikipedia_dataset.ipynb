{
 "cells": [
  {
   "cell_type": "code",
   "execution_count": 124,
   "metadata": {},
   "outputs": [],
   "source": [
    "import pandas as pd\n",
    "\n",
    "#a = pd.read_csv('train.tsv', sep='\\t', names=['full','split'])['full']\n",
    "df = pd.read_csv('train.tsv', sep='\\t', names=['full','split'])['full'].sample(10000, random_state=42)"
   ]
  },
  {
   "cell_type": "code",
   "execution_count": 44,
   "metadata": {},
   "outputs": [
    {
     "name": "stderr",
     "output_type": "stream",
     "text": [
      "[nltk_data] Downloading package punkt to\n",
      "[nltk_data]     C:\\Users\\atefe\\AppData\\Roaming\\nltk_data...\n",
      "[nltk_data]   Package punkt is already up-to-date!\n",
      "[nltk_data] Downloading package stopwords to\n",
      "[nltk_data]     C:\\Users\\atefe\\AppData\\Roaming\\nltk_data...\n",
      "[nltk_data]   Package stopwords is already up-to-date!\n",
      "[nltk_data] Downloading package wordnet to\n",
      "[nltk_data]     C:\\Users\\atefe\\AppData\\Roaming\\nltk_data...\n",
      "[nltk_data]   Package wordnet is already up-to-date!\n"
     ]
    },
    {
     "data": {
      "text/plain": [
       "True"
      ]
     },
     "execution_count": 44,
     "metadata": {},
     "output_type": "execute_result"
    }
   ],
   "source": [
    "#for ind in df.index: \n",
    "#    print(df[ind]) \n",
    "import nltk\n",
    "import warnings\n",
    "from nltk.sentiment.vader import SentimentIntensityAnalyzer\n",
    "from nltk.tokenize import sent_tokenize\n",
    "from nltk.corpus import stopwords\n",
    "from nltk.stem import PorterStemmer\n",
    "from nltk.stem.wordnet import WordNetLemmatizer\n",
    "\n",
    "warnings.filterwarnings('ignore')\n",
    "nltk.download('punkt') # for tokenizing the text to sentences\n",
    "nltk.download('stopwords')\n",
    "nltk.download('wordnet')"
   ]
  },
  {
   "cell_type": "code",
   "execution_count": 125,
   "metadata": {},
   "outputs": [
    {
     "name": "stdout",
     "output_type": "stream",
     "text": [
      "After the very heavy '' Dragontown '' album Alice decided to return to his roots , his place of birth , Detroit , where he accidently joined in with a festival together with MC5 & Iggy and the Stooges .\n"
     ]
    }
   ],
   "source": [
    "from nltk.tokenize.punkt import PunktSentenceTokenizer\n",
    "tokenized_sentences = []\n",
    "for ind in df.index: \n",
    "    tokenized_sentences.append(df[ind])\n",
    "print(tokenized_sentences[0])"
   ]
  },
  {
   "cell_type": "code",
   "execution_count": 126,
   "metadata": {},
   "outputs": [
    {
     "name": "stdout",
     "output_type": "stream",
     "text": [
      "10000\n",
      "10000\n"
     ]
    }
   ],
   "source": [
    "from nltk.tokenize import word_tokenize\n",
    "print(len(tokenized_sentences))\n",
    "### remove noise ###\n",
    "stop_words = set(stopwords.words(\"english\"))\n",
    "ps = PorterStemmer()\n",
    "lem = WordNetLemmatizer()\n",
    "filtered_sentences = []\n",
    "i = 0\n",
    "for sent in tokenized_sentences:\n",
    "  curr_sent = []\n",
    "  t_word = word_tokenize(sent)\n",
    "  for w in t_word:\n",
    "    if w not in stop_words and w.isalpha(): # remove the common words\n",
    "        # sentences.append(ps.stem(w)) # reduce words to their roots (stemming) the result may not be an english word\n",
    "        curr_sent.append(lem.lemmatize(w,pos=\"v\")) # reduce words to their roots (lemmatization) the result is an english word\n",
    "  if len(curr_sent) > 0:\n",
    "    filtered_sentences.append(curr_sent)      \n",
    "\n",
    "filtered_sentences = list(map(' '.join, filtered_sentences))       \n",
    "print(len(filtered_sentences))"
   ]
  },
  {
   "cell_type": "code",
   "execution_count": 127,
   "metadata": {},
   "outputs": [
    {
     "name": "stdout",
     "output_type": "stream",
     "text": [
      "After heavy Dragontown album Alice decide return root place birth Detroit accidently join festival together Iggy Stooges\n"
     ]
    },
    {
     "name": "stderr",
     "output_type": "stream",
     "text": [
      "[nltk_data] Downloading package vader_lexicon to\n",
      "[nltk_data]     C:\\Users\\atefe\\AppData\\Roaming\\nltk_data...\n",
      "[nltk_data]   Package vader_lexicon is already up-to-date!\n"
     ]
    }
   ],
   "source": [
    "print(filtered_sentences[0])\n",
    "warnings.filterwarnings('ignore')\n",
    "nltk.download('vader_lexicon') # for sentiment analyzer\n",
    "  \n",
    "sia = SentimentIntensityAnalyzer()"
   ]
  },
  {
   "cell_type": "code",
   "execution_count": 106,
   "metadata": {},
   "outputs": [
    {
     "name": "stdout",
     "output_type": "stream",
     "text": [
      "compound: 0.6597, neg: 0.0, neu: 0.735, pos: 0.265, "
     ]
    }
   ],
   "source": [
    "sentiment = sia.polarity_scores(filtered_sentences[0])\n",
    "for k in sorted(sentiment):\n",
    "    print('{0}: {1}, '.format(k, sentiment[k]), end='')"
   ]
  },
  {
   "cell_type": "code",
   "execution_count": 128,
   "metadata": {},
   "outputs": [
    {
     "name": "stdout",
     "output_type": "stream",
     "text": [
      "10000\n"
     ]
    }
   ],
   "source": [
    "sentiment = [sia.polarity_scores(s) for s in filtered_sentences]\n",
    "print(len(sentiment))"
   ]
  },
  {
   "cell_type": "code",
   "execution_count": 129,
   "metadata": {},
   "outputs": [
    {
     "name": "stdout",
     "output_type": "stream",
     "text": [
      "Average of the neutral scores: 0.8299685\n",
      "Average of the positive scores: 0.1042937\n",
      "Average of the negative scores: 0.0657365\n",
      "Average of the compound scores: 0.09205316\n"
     ]
    }
   ],
   "source": [
    "from statistics import mean\n",
    "\n",
    "print(\"Average of the neutral scores:\", mean([sent['neu'] for sent in sentiment]))\n",
    "print(\"Average of the positive scores:\", mean([sent['pos'] for sent in sentiment]))\n",
    "print(\"Average of the negative scores:\", mean([sent['neg'] for sent in sentiment]))\n",
    "print(\"Average of the compound scores:\", mean([sent['compound'] for sent in sentiment]))"
   ]
  },
  {
   "cell_type": "code",
   "execution_count": 130,
   "metadata": {},
   "outputs": [
    {
     "name": "stdout",
     "output_type": "stream",
     "text": [
      "2304\n"
     ]
    }
   ],
   "source": [
    "articles = []\n",
    "sum = 0\n",
    "for article in filtered_sentences:\n",
    "    sentiment = sia.polarity_scores(article)\n",
    "    if sentiment['compound'] < 0.0:\n",
    "        sum += 1\n",
    "    if sentiment['pos'] > sentiment['neg']:\n",
    "        articles.append((article, 'pos'))\n",
    "    else:\n",
    "        articles.append((article, 'neg'))    \n",
    "print(sum)"
   ]
  },
  {
   "cell_type": "code",
   "execution_count": 131,
   "metadata": {},
   "outputs": [
    {
     "name": "stdout",
     "output_type": "stream",
     "text": [
      "4306\n"
     ]
    }
   ],
   "source": [
    "sum = 0\n",
    "for (article, cat) in articles:\n",
    "  if cat == 'pos':\n",
    "    sum += 1\n",
    "print(sum)"
   ]
  },
  {
   "cell_type": "code",
   "execution_count": 132,
   "metadata": {},
   "outputs": [],
   "source": [
    "from nltk.tokenize import word_tokenize \n",
    "\n",
    "all_words_set = set(word.lower() for passage in articles for word in word_tokenize(passage[0]))\n",
    "all_words_list = list(word.lower() for passage in articles for word in word_tokenize(passage[0]))"
   ]
  },
  {
   "cell_type": "code",
   "execution_count": 133,
   "metadata": {},
   "outputs": [
    {
     "name": "stdout",
     "output_type": "stream",
     "text": [
      "29384 167721\n",
      "29384 160744\n"
     ]
    }
   ],
   "source": [
    "print(len(all_words_set), len(all_words_list))\n",
    "filtered_words_list = []\n",
    "for w in all_words_list:\n",
    "    if w not in stop_words: # remove the common words\n",
    "        filtered_words_list.append(lem.lemmatize(w,pos=\"v\"))\n",
    "print(len(all_words_set), len(filtered_words_list))"
   ]
  },
  {
   "cell_type": "code",
   "execution_count": 135,
   "metadata": {},
   "outputs": [
    {
     "name": "stdout",
     "output_type": "stream",
     "text": [
      "[('transgender', 2), ('ashbury', 2), ('jimmie', 2), ('counteract', 2), ('illawarra', 2), ('thrill', 2), ('odi', 2), ('hrs', 2), ('antenna', 2), ('rajab', 2), ('prestige', 2), ('academically', 2), ('culpeper', 2), ('hq', 2), ('axé', 2), ('eurodance', 2), ('boca', 2), ('atom', 2), ('valence', 2), ('bathysphere', 2), ('unknowingly', 2), ('outcomes', 2), ('perpendicular', 2), ('okinawa', 2), ('reactivate', 2), ('debug', 2), ('parameters', 2), ('muster', 2), ('phantom', 2), ('giles', 2)]\n"
     ]
    }
   ],
   "source": [
    "word_features = [word for (word,_) in (nltk.FreqDist(filtered_words_list)).most_common(10000)]\n",
    "word_list = (nltk.FreqDist(filtered_words_list)).most_common(10000)\n",
    "fdist = nltk.FreqDist(filtered_words_list)\n",
    "print(word_list[-30:])\n",
    "# import matplotlib.pyplot as plt\n",
    "# fdist.plot(10,cumulative=False)\n",
    "# plt.show()"
   ]
  },
  {
   "cell_type": "code",
   "execution_count": 137,
   "metadata": {},
   "outputs": [],
   "source": [
    "from random import shuffle\n",
    "shuffle(articles)\n",
    "training_articles = articles[:8000]\n",
    "test_articles = articles[8000:]"
   ]
  },
  {
   "cell_type": "code",
   "execution_count": 138,
   "metadata": {},
   "outputs": [],
   "source": [
    "from nltk.sentiment import SentimentAnalyzer\n",
    "from nltk.sentiment.util import *\n",
    "\n",
    "sa = SentimentAnalyzer()\n",
    "unigram_features = sa.unigram_word_feats(word_features)\n",
    "sa.add_feat_extractor(extract_unigram_feats, unigrams=unigram_features)\n",
    "\n",
    "training_set = sa.apply_features(training_articles)\n",
    "test_set = sa.apply_features(test_articles)"
   ]
  },
  {
   "cell_type": "code",
   "execution_count": 139,
   "metadata": {},
   "outputs": [
    {
     "name": "stdout",
     "output_type": "stream",
     "text": [
      "Training classifier\n"
     ]
    }
   ],
   "source": [
    "from nltk.classify import NaiveBayesClassifier as NBC\n",
    "classifier = sa.train(NBC.train, training_set)"
   ]
  },
  {
   "cell_type": "code",
   "execution_count": 140,
   "metadata": {},
   "outputs": [
    {
     "name": "stdout",
     "output_type": "stream",
     "text": [
      "Evaluating NaiveBayesClassifier results...\n",
      "Accuracy: 0.57\n",
      "F-measure [neg]: 0.6684656900539706\n",
      "F-measure [pos]: 0.38833570412517776\n",
      "Precision [neg]: 0.5914051841746248\n",
      "Precision [pos]: 0.5112359550561798\n",
      "Recall [neg]: 0.7686170212765957\n",
      "Recall [pos]: 0.3130733944954128\n"
     ]
    }
   ],
   "source": [
    "for key, value in sorted(sa.evaluate(test_set).items()):\n",
    "    print('{0}: {1}'.format(key, value))"
   ]
  },
  {
   "cell_type": "code",
   "execution_count": null,
   "metadata": {},
   "outputs": [],
   "source": []
  }
 ],
 "metadata": {
  "kernelspec": {
   "display_name": "Python 3",
   "language": "python",
   "name": "python3"
  },
  "language_info": {
   "codemirror_mode": {
    "name": "ipython",
    "version": 3
   },
   "file_extension": ".py",
   "mimetype": "text/x-python",
   "name": "python",
   "nbconvert_exporter": "python",
   "pygments_lexer": "ipython3",
   "version": "3.7.6"
  }
 },
 "nbformat": 4,
 "nbformat_minor": 4
}
