{
 "cells": [
  {
   "cell_type": "code",
   "execution_count": 33,
   "metadata": {},
   "outputs": [
    {
     "name": "stderr",
     "output_type": "stream",
     "text": [
      "[nltk_data] Downloading package punkt to\n",
      "[nltk_data]     C:\\Users\\atefe\\AppData\\Roaming\\nltk_data...\n",
      "[nltk_data]   Package punkt is already up-to-date!\n",
      "[nltk_data] Downloading package vader_lexicon to\n",
      "[nltk_data]     C:\\Users\\atefe\\AppData\\Roaming\\nltk_data...\n",
      "[nltk_data]   Package vader_lexicon is already up-to-date!\n"
     ]
    }
   ],
   "source": [
    "import pandas as pd\n",
    "import nltk\n",
    "from nltk.tokenize.punkt import PunktSentenceTokenizer\n",
    "from nltk.sentiment.vader import SentimentIntensityAnalyzer\n",
    "\n",
    "\"\"\"\n",
    "All the news: https://www.kaggle.com/snapcrack/all-the-news\n",
    "\"\"\"\n",
    "nltk.download('punkt')\n",
    "nltk.download('vader_lexicon')\n",
    "\n",
    "tokenizer = PunktSentenceTokenizer()\n",
    "classifier = SentimentIntensityAnalyzer()\n",
    "\n",
    "SEED=42\n",
    "# load content from csv\n",
    "articles = (pd.read_csv('all-the-news/articles1.csv').append(pd.read_csv('all-the-news/articles2.csv'))).sample(2000, random_state=SEED)\n",
    "content = articles['content']"
   ]
  },
  {
   "cell_type": "code",
   "execution_count": 35,
   "metadata": {},
   "outputs": [
    {
     "name": "stderr",
     "output_type": "stream",
     "text": [
      "[nltk_data] Downloading package punkt to\n",
      "[nltk_data]     C:\\Users\\atefe\\AppData\\Roaming\\nltk_data...\n",
      "[nltk_data]   Package punkt is already up-to-date!\n",
      "[nltk_data] Downloading package stopwords to\n",
      "[nltk_data]     C:\\Users\\atefe\\AppData\\Roaming\\nltk_data...\n",
      "[nltk_data]   Package stopwords is already up-to-date!\n",
      "[nltk_data] Downloading package wordnet to\n",
      "[nltk_data]     C:\\Users\\atefe\\AppData\\Roaming\\nltk_data...\n",
      "[nltk_data]   Package wordnet is already up-to-date!\n"
     ]
    },
    {
     "data": {
      "text/plain": [
       "True"
      ]
     },
     "execution_count": 35,
     "metadata": {},
     "output_type": "execute_result"
    }
   ],
   "source": [
    "import nltk\n",
    "import warnings\n",
    "from nltk.sentiment.vader import SentimentIntensityAnalyzer\n",
    "from nltk.tokenize import sent_tokenize\n",
    "from nltk.corpus import stopwords\n",
    "from nltk.stem import PorterStemmer\n",
    "from nltk.stem.wordnet import WordNetLemmatizer\n",
    "\n",
    "warnings.filterwarnings('ignore')\n",
    "nltk.download('punkt') # for tokenizing the text to sentences\n",
    "nltk.download('stopwords')\n",
    "nltk.download('wordnet')"
   ]
  },
  {
   "cell_type": "code",
   "execution_count": 36,
   "metadata": {},
   "outputs": [
    {
     "name": "stdout",
     "output_type": "stream",
     "text": [
      "The unspeakable atrocity in Orlando last Sunday has opened the floodgates to a torrent of heated discussion about the reasons behind America’s deadliest mass shooting.\n",
      "64528\n"
     ]
    }
   ],
   "source": [
    "import re\n",
    "from nltk.tokenize.punkt import PunktSentenceTokenizer\n",
    "tokenized_sentences = []\n",
    "for ind in content.index: \n",
    "    letter_only = re.sub(\"[\\d-]\",  # Search for all numbers\n",
    "                          \" \",          # Replace all non-letters with spaces\n",
    "                          str(content[ind]))\n",
    "    for s in sent_tokenize(letter_only):\n",
    "        tokenized_sentences.append(s)\n",
    "print(tokenized_sentences[0])\n",
    "print(len(tokenized_sentences))"
   ]
  },
  {
   "cell_type": "code",
   "execution_count": 37,
   "metadata": {},
   "outputs": [],
   "source": [
    "from random import sample\n",
    "rand_sentences = sample(tokenized_sentences, 15000)"
   ]
  },
  {
   "cell_type": "code",
   "execution_count": 38,
   "metadata": {},
   "outputs": [
    {
     "name": "stdout",
     "output_type": "stream",
     "text": [
      "15000\n",
      "14750\n"
     ]
    }
   ],
   "source": [
    "from nltk.tokenize import word_tokenize\n",
    "print(len(rand_sentences))\n",
    "### remove noise ###\n",
    "stop_words = set(stopwords.words(\"english\"))\n",
    "ps = PorterStemmer()\n",
    "lem = WordNetLemmatizer()\n",
    "filtered_sentences = []\n",
    "i = 0\n",
    "for sent in rand_sentences:\n",
    "  curr_sent = []\n",
    "  t_word = word_tokenize(sent)\n",
    "  for w in t_word:\n",
    "    if w not in stop_words and w.isalpha(): # remove the common words\n",
    "        # sentences.append(ps.stem(w)) # reduce words to their roots (stemming) the result may not be an english word\n",
    "        curr_sent.append(lem.lemmatize(w,pos=\"v\")) # reduce words to their roots (lemmatization) the result is an english word\n",
    "  if len(curr_sent) > 0:\n",
    "    filtered_sentences.append(curr_sent)      \n",
    "\n",
    "filtered_sentences = list(map(' '.join, filtered_sentences))       \n",
    "print(len(filtered_sentences))"
   ]
  },
  {
   "cell_type": "code",
   "execution_count": 39,
   "metadata": {},
   "outputs": [
    {
     "name": "stdout",
     "output_type": "stream",
     "text": [
      "It start organically\n"
     ]
    },
    {
     "name": "stderr",
     "output_type": "stream",
     "text": [
      "[nltk_data] Downloading package vader_lexicon to\n",
      "[nltk_data]     C:\\Users\\atefe\\AppData\\Roaming\\nltk_data...\n",
      "[nltk_data]   Package vader_lexicon is already up-to-date!\n"
     ]
    }
   ],
   "source": [
    "print(filtered_sentences[0])\n",
    "warnings.filterwarnings('ignore')\n",
    "nltk.download('vader_lexicon') # for sentiment analyzer\n",
    "  \n",
    "sia = SentimentIntensityAnalyzer()"
   ]
  },
  {
   "cell_type": "code",
   "execution_count": 40,
   "metadata": {},
   "outputs": [
    {
     "name": "stdout",
     "output_type": "stream",
     "text": [
      "compound: 0.0, neg: 0.0, neu: 1.0, pos: 0.0, "
     ]
    }
   ],
   "source": [
    "sentiment = sia.polarity_scores(filtered_sentences[0])\n",
    "for k in sorted(sentiment):\n",
    "    print('{0}: {1}, '.format(k, sentiment[k]), end='')"
   ]
  },
  {
   "cell_type": "code",
   "execution_count": 41,
   "metadata": {},
   "outputs": [
    {
     "name": "stdout",
     "output_type": "stream",
     "text": [
      "14750\n"
     ]
    }
   ],
   "source": [
    "sentiment = [sia.polarity_scores(s) for s in filtered_sentences]\n",
    "print(len(sentiment))"
   ]
  },
  {
   "cell_type": "code",
   "execution_count": 42,
   "metadata": {},
   "outputs": [
    {
     "name": "stdout",
     "output_type": "stream",
     "text": [
      "Average of the neutral scores: 0.7592887457627119\n",
      "Average of the positive scores: 0.13163077966101694\n",
      "Average of the negative scores: 0.10860284745762712\n",
      "Average of the compound scores: 0.03515086779661017\n"
     ]
    }
   ],
   "source": [
    "from statistics import mean\n",
    "\n",
    "print(\"Average of the neutral scores:\", mean([sent['neu'] for sent in sentiment]))\n",
    "print(\"Average of the positive scores:\", mean([sent['pos'] for sent in sentiment]))\n",
    "print(\"Average of the negative scores:\", mean([sent['neg'] for sent in sentiment]))\n",
    "print(\"Average of the compound scores:\", mean([sent['compound'] for sent in sentiment]))"
   ]
  },
  {
   "cell_type": "code",
   "execution_count": 43,
   "metadata": {},
   "outputs": [
    {
     "name": "stdout",
     "output_type": "stream",
     "text": [
      "4573\n"
     ]
    }
   ],
   "source": [
    "articles = []\n",
    "sum = 0\n",
    "for article in filtered_sentences:\n",
    "    sentiment = sia.polarity_scores(article)\n",
    "    if sentiment['compound'] < 0.0:\n",
    "        sum += 1\n",
    "    if sentiment['pos'] > sentiment['neg']:\n",
    "        articles.append((article, 'pos'))\n",
    "    else:\n",
    "        articles.append((article, 'neg'))    \n",
    "print(sum)"
   ]
  },
  {
   "cell_type": "code",
   "execution_count": 44,
   "metadata": {},
   "outputs": [
    {
     "name": "stdout",
     "output_type": "stream",
     "text": [
      "5701\n"
     ]
    }
   ],
   "source": [
    "sum = 0\n",
    "for (article, cat) in articles:\n",
    "  if cat == 'pos':\n",
    "    sum += 1\n",
    "print(sum)"
   ]
  },
  {
   "cell_type": "code",
   "execution_count": 45,
   "metadata": {},
   "outputs": [],
   "source": [
    "from nltk.tokenize import word_tokenize \n",
    "\n",
    "all_words_set = set(word.lower() for passage in articles for word in word_tokenize(passage[0]))\n",
    "all_words_list = list(word.lower() for passage in articles for word in word_tokenize(passage[0]))"
   ]
  },
  {
   "cell_type": "code",
   "execution_count": 46,
   "metadata": {},
   "outputs": [
    {
     "name": "stdout",
     "output_type": "stream",
     "text": [
      "19137 178928\n",
      "19137 166692\n"
     ]
    }
   ],
   "source": [
    "print(len(all_words_set), len(all_words_list))\n",
    "filtered_words_list = []\n",
    "for w in all_words_list:\n",
    "    if w not in stop_words: # remove the common words\n",
    "        filtered_words_list.append(lem.lemmatize(w,pos=\"v\"))\n",
    "print(len(all_words_set), len(filtered_words_list))"
   ]
  },
  {
   "cell_type": "code",
   "execution_count": 47,
   "metadata": {},
   "outputs": [
    {
     "name": "stdout",
     "output_type": "stream",
     "text": [
      "[('scopes', 2), ('townhall', 2), ('antiquities', 2), ('singh', 2), ('fresco', 2), ('micromanage', 2), ('booty', 2), ('enrollment', 2), ('shawn', 2), ('stilettos', 2), ('espionage', 2), ('mo', 2), ('auckland', 2), ('civility', 2), ('hoax', 2), ('gays', 2), ('lecturer', 2), ('ivanka', 2), ('onions', 2), ('legion', 2), ('inversion', 2), ('spokesmen', 2), ('superpowers', 2), ('cloture', 2), ('legend', 2), ('aroldis', 2), ('chapman', 2), ('kemp', 2), ('liberalize', 2), ('adjustments', 2)]\n"
     ]
    }
   ],
   "source": [
    "word_features = [word for (word,_) in (nltk.FreqDist(filtered_words_list)).most_common(10000)]\n",
    "word_list = (nltk.FreqDist(filtered_words_list)).most_common(10000)\n",
    "fdist = nltk.FreqDist(filtered_words_list)\n",
    "print(word_list[-30:])\n",
    "# import matplotlib.pyplot as plt\n",
    "# fdist.plot(10,cumulative=False)\n",
    "# plt.show()"
   ]
  },
  {
   "cell_type": "code",
   "execution_count": 48,
   "metadata": {},
   "outputs": [
    {
     "name": "stdout",
     "output_type": "stream",
     "text": [
      "14750 11800 2950\n"
     ]
    }
   ],
   "source": [
    "from random import shuffle\n",
    "shuffle(articles)\n",
    "training_articles = articles[:int(0.8*len(articles))]\n",
    "test_articles = articles[int(0.8*len(articles)):]\n",
    "print(len(articles), len(training_articles), len(test_articles))"
   ]
  },
  {
   "cell_type": "code",
   "execution_count": 49,
   "metadata": {},
   "outputs": [],
   "source": [
    "from nltk.sentiment import SentimentAnalyzer\n",
    "from nltk.sentiment.util import *\n",
    "\n",
    "sa = SentimentAnalyzer()\n",
    "unigram_features = sa.unigram_word_feats(word_features)\n",
    "sa.add_feat_extractor(extract_unigram_feats, unigrams=unigram_features)\n",
    "\n",
    "training_set = sa.apply_features(training_articles)\n",
    "test_set = sa.apply_features(test_articles)"
   ]
  },
  {
   "cell_type": "code",
   "execution_count": 60,
   "metadata": {},
   "outputs": [
    {
     "name": "stdout",
     "output_type": "stream",
     "text": [
      "Training classifier\n"
     ]
    }
   ],
   "source": [
    "from nltk.classify import NaiveBayesClassifier as NBC\n",
    "classifier = sa.train(NBC.train, training_set)"
   ]
  },
  {
   "cell_type": "code",
   "execution_count": 46,
   "metadata": {},
   "outputs": [
    {
     "name": "stdout",
     "output_type": "stream",
     "text": [
      "Evaluating NaiveBayesClassifier results...\n",
      "Accuracy: 0.595391392748221\n",
      "F-measure [neg]: 0.6602162777461582\n",
      "F-measure [pos]: 0.5000000000000001\n",
      "Precision [neg]: 0.6819517930629042\n",
      "Precision [pos]: 0.4776\n",
      "Recall [neg]: 0.6398234969663541\n",
      "Recall [pos]: 0.5246045694200352\n"
     ]
    }
   ],
   "source": [
    "for key, value in sorted(sa.evaluate(test_set).items()):\n",
    "    print('{0}: {1}'.format(key, value))"
   ]
  },
  {
   "cell_type": "markdown",
   "metadata": {},
   "source": [
    "# Benchmark"
   ]
  },
  {
   "cell_type": "code",
   "execution_count": 28,
   "metadata": {},
   "outputs": [],
   "source": [
    "import pandas as pd\n",
    "# pd.read_csv('stanfordSentimentTreebank/datasetSentences.txt', sep='\\t')\n",
    "phrases = pd.read_csv('stanfordSentimentTreebank/dictionary.txt', sep='|', names=['phrase', 'phrase ids'])\n",
    "sentiment = pd.read_csv('stanfordSentimentTreebank/sentiment_labels.txt', sep='|', usecols=['sentiment values']).astype(float)\n",
    "sentiment['labels'] = sentiment['sentiment values'].apply(lambda x: 'pos' if x >= 0.50000 else 'neg')\n",
    "benchmark = phrases.join(sentiment, on='phrase ids', lsuffix=\"l\")[['phrase', 'labels']]\n",
    "#benchmark['sentiment values'] = benchmark['sentiment values'].apply(sst_threshold)\n",
    "benchmark.columns = ['sentences', 'labels']\n",
    "#loader = package_data(benchmark, tokenizer, max_input_length, BATCH_SIZE)"
   ]
  },
  {
   "cell_type": "code",
   "execution_count": 53,
   "metadata": {},
   "outputs": [
    {
     "name": "stdout",
     "output_type": "stream",
     "text": [
      "!\n",
      "239232\n"
     ]
    }
   ],
   "source": [
    "tokenized_benchmark = []\n",
    "for ind in (benchmark['sentences']).index: \n",
    "    letter_only = re.sub(\"[\\d-]\",  # Search for all numbers\n",
    "                          \" \",          # Replace all non-letters with spaces\n",
    "                          str((benchmark['sentences'])[ind]))\n",
    "    #for s in sent_tokenize(letter_only):\n",
    "    tokenized_benchmark.append(letter_only)\n",
    "print(tokenized_benchmark[0])\n",
    "print(len(tokenized_benchmark))"
   ]
  },
  {
   "cell_type": "code",
   "execution_count": 54,
   "metadata": {},
   "outputs": [
    {
     "name": "stdout",
     "output_type": "stream",
     "text": [
      "237141\n"
     ]
    }
   ],
   "source": [
    "### remove noise ###\n",
    "stop_words = set(stopwords.words(\"english\"))\n",
    "ps = PorterStemmer()\n",
    "lem = WordNetLemmatizer()\n",
    "filtered_benchmark = []\n",
    "i = 0\n",
    "for sent in tokenized_benchmark:\n",
    "  curr_sent = []\n",
    "  t_word = word_tokenize(sent)\n",
    "  for w in t_word:\n",
    "    if w not in stop_words and w.isalpha(): # remove the common words\n",
    "        # sentences.append(ps.stem(w)) # reduce words to their roots (stemming) the result may not be an english word\n",
    "        curr_sent.append(lem.lemmatize(w,pos=\"v\")) # reduce words to their roots (lemmatization) the result is an english word\n",
    "  if len(curr_sent) > 0:\n",
    "    filtered_benchmark.append(curr_sent)      \n",
    "\n",
    "filtered_benchmark = list(map(' '.join, filtered_benchmark))       \n",
    "print(len(filtered_benchmark))"
   ]
  },
  {
   "cell_type": "code",
   "execution_count": 58,
   "metadata": {},
   "outputs": [
    {
     "name": "stdout",
     "output_type": "stream",
     "text": [
      "43063\n"
     ]
    }
   ],
   "source": [
    "articles = []\n",
    "sum = 0\n",
    "for article in filtered_benchmark:\n",
    "    sentiment = sia.polarity_scores(article)\n",
    "    if sentiment['compound'] < 0.0:\n",
    "        sum += 1\n",
    "    if sentiment['pos'] > sentiment['neg']:\n",
    "        articles.append((article, 'pos'))\n",
    "    else:\n",
    "        articles.append((article, 'neg'))    \n",
    "print(sum)"
   ]
  },
  {
   "cell_type": "code",
   "execution_count": 62,
   "metadata": {},
   "outputs": [],
   "source": [
    "test_set_benchmark = sa.apply_features(articles[:10000])"
   ]
  },
  {
   "cell_type": "code",
   "execution_count": 63,
   "metadata": {},
   "outputs": [
    {
     "name": "stdout",
     "output_type": "stream",
     "text": [
      "Evaluating NaiveBayesClassifier results...\n",
      "Accuracy: 0.6094\n",
      "F-measure [neg]: 0.731509485839978\n",
      "F-measure [pos]: 0.2835656639765224\n",
      "Precision [neg]: 0.6130890655605484\n",
      "Precision [pos]: 0.5851627554882665\n",
      "Recall [neg]: 0.9066280456636565\n",
      "Recall [pos]: 0.18712176228516098\n"
     ]
    }
   ],
   "source": [
    "for key, value in sorted(sa.evaluate(test_set_benchmark).items()):\n",
    "    print('{0}: {1}'.format(key, value))"
   ]
  },
  {
   "cell_type": "code",
   "execution_count": null,
   "metadata": {},
   "outputs": [],
   "source": []
  }
 ],
 "metadata": {
  "kernelspec": {
   "display_name": "Python 3",
   "language": "python",
   "name": "python3"
  },
  "language_info": {
   "codemirror_mode": {
    "name": "ipython",
    "version": 3
   },
   "file_extension": ".py",
   "mimetype": "text/x-python",
   "name": "python",
   "nbconvert_exporter": "python",
   "pygments_lexer": "ipython3",
   "version": "3.7.6"
  }
 },
 "nbformat": 4,
 "nbformat_minor": 4
}
