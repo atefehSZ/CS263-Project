{
 "cells": [
  {
   "cell_type": "raw",
   "metadata": {},
   "source": [
    "# header = ['source', 'url', 'title', 'image', 'category', 'description', 'rank', 'pubdate', 'video']\n",
    "########\n",
    "# DATA #\n",
    "########\n",
    "\"\"\"\n",
    "CSVs from: https://github.com/mhjabreel/CharCnn_Keras/tree/master/data/ag_news_csv\n",
    "Constructed by: Xiang Zhang (xiang.zhang@nyu.edu)\n",
    "    From: http://www.di.unipi.it/~gulli/AG_corpus_of_news_articles.html \n",
    "\"\"\"\n",
    "headers = ['class', 'title', 'description']\n",
    "pd.read_csv('train.csv', names=headers)['description'][0]"
   ]
  },
  {
   "cell_type": "code",
   "execution_count": 2,
   "metadata": {},
   "outputs": [],
   "source": [
    "import pandas as pd\n",
    "import nltk\n",
    "from nltk.tokenize.punkt import PunktSentenceTokenizer\n",
    "from nltk.sentiment.vader import SentimentIntensityAnalyzer"
   ]
  },
  {
   "cell_type": "code",
   "execution_count": 1,
   "metadata": {},
   "outputs": [
    {
     "name": "stderr",
     "output_type": "stream",
     "text": [
      "[nltk_data] Downloading package punkt to /home/davina/nltk_data...\n",
      "[nltk_data]   Package punkt is already up-to-date!\n",
      "[nltk_data] Downloading package vader_lexicon to\n",
      "[nltk_data]     /home/davina/nltk_data...\n",
      "[nltk_data]   Package vader_lexicon is already up-to-date!\n"
     ]
    }
   ],
   "source": [
    "\"\"\"\n",
    "All the news: https://www.kaggle.com/snapcrack/all-the-news\n",
    "\"\"\"\n",
    "nltk.download('punkt')\n",
    "nltk.download('vader_lexicon')\n",
    "\n",
    "tokenizer = PunktSentenceTokenizer()\n",
    "classifier = SentimentIntensityAnalyzer()\n",
    "\n",
    "\n",
    "data =pd.read_pickle('data.pkl')"
   ]
  },
  {
   "cell_type": "code",
   "execution_count": 4,
   "metadata": {},
   "outputs": [
    {
     "data": {
      "text/html": [
       "<div>\n",
       "<style scoped>\n",
       "    .dataframe tbody tr th:only-of-type {\n",
       "        vertical-align: middle;\n",
       "    }\n",
       "\n",
       "    .dataframe tbody tr th {\n",
       "        vertical-align: top;\n",
       "    }\n",
       "\n",
       "    .dataframe thead th {\n",
       "        text-align: right;\n",
       "    }\n",
       "</style>\n",
       "<table border=\"1\" class=\"dataframe\">\n",
       "  <thead>\n",
       "    <tr style=\"text-align: right;\">\n",
       "      <th></th>\n",
       "      <th>sentences</th>\n",
       "      <th>scores</th>\n",
       "    </tr>\n",
       "  </thead>\n",
       "  <tbody>\n",
       "    <tr>\n",
       "      <th>1747169</th>\n",
       "      <td>Michael writes: I am somewhat afraid the lives...</td>\n",
       "      <td>0.0000</td>\n",
       "    </tr>\n",
       "    <tr>\n",
       "      <th>3367545</th>\n",
       "      <td>Many claim to eat only healthy food and be fre...</td>\n",
       "      <td>0.7184</td>\n",
       "    </tr>\n",
       "    <tr>\n",
       "      <th>1138834</th>\n",
       "      <td>In 2012, a group of gunmen carrying machine gu...</td>\n",
       "      <td>0.0000</td>\n",
       "    </tr>\n",
       "    <tr>\n",
       "      <th>1711104</th>\n",
       "      <td>Hiring shortages are an example of the complex...</td>\n",
       "      <td>-0.1531</td>\n",
       "    </tr>\n",
       "    <tr>\n",
       "      <th>959629</th>\n",
       "      <td>He’s getting top level support, including from...</td>\n",
       "      <td>0.5423</td>\n",
       "    </tr>\n",
       "    <tr>\n",
       "      <th>...</th>\n",
       "      <td>...</td>\n",
       "      <td>...</td>\n",
       "    </tr>\n",
       "    <tr>\n",
       "      <th>2163513</th>\n",
       "      <td>“We are just getting started,” Sanders declare...</td>\n",
       "      <td>0.0000</td>\n",
       "    </tr>\n",
       "    <tr>\n",
       "      <th>2414131</th>\n",
       "      <td>How often does an infection during pregnancy l...</td>\n",
       "      <td>-0.4019</td>\n",
       "    </tr>\n",
       "    <tr>\n",
       "      <th>2831798</th>\n",
       "      <td>His formal morning coat opened to reveal     t...</td>\n",
       "      <td>0.0000</td>\n",
       "    </tr>\n",
       "    <tr>\n",
       "      <th>1946979</th>\n",
       "      <td>“To be honest, I gave up,” he said.</td>\n",
       "      <td>0.5106</td>\n",
       "    </tr>\n",
       "    <tr>\n",
       "      <th>535417</th>\n",
       "      <td>Mr.</td>\n",
       "      <td>0.0000</td>\n",
       "    </tr>\n",
       "  </tbody>\n",
       "</table>\n",
       "<p>5000 rows × 2 columns</p>\n",
       "</div>"
      ],
      "text/plain": [
       "                                                 sentences  scores\n",
       "1747169  Michael writes: I am somewhat afraid the lives...  0.0000\n",
       "3367545  Many claim to eat only healthy food and be fre...  0.7184\n",
       "1138834  In 2012, a group of gunmen carrying machine gu...  0.0000\n",
       "1711104  Hiring shortages are an example of the complex... -0.1531\n",
       "959629   He’s getting top level support, including from...  0.5423\n",
       "...                                                    ...     ...\n",
       "2163513  “We are just getting started,” Sanders declare...  0.0000\n",
       "2414131  How often does an infection during pregnancy l... -0.4019\n",
       "2831798  His formal morning coat opened to reveal     t...  0.0000\n",
       "1946979                “To be honest, I gave up,” he said.  0.5106\n",
       "535417                                                 Mr.  0.0000\n",
       "\n",
       "[5000 rows x 2 columns]"
      ]
     },
     "execution_count": 4,
     "metadata": {},
     "output_type": "execute_result"
    }
   ],
   "source": [
    "data.sample(5000, random_state=42)"
   ]
  },
  {
   "cell_type": "code",
   "execution_count": 2,
   "metadata": {},
   "outputs": [
    {
     "ename": "NameError",
     "evalue": "name 'sentences' is not defined",
     "output_type": "error",
     "traceback": [
      "\u001b[0;31m---------------------------------------------------------------------------\u001b[0m",
      "\u001b[0;31mNameError\u001b[0m                                 Traceback (most recent call last)",
      "\u001b[0;32m<ipython-input-2-7ca9e77f84c4>\u001b[0m in \u001b[0;36m<module>\u001b[0;34m\u001b[0m\n\u001b[0;32m----> 1\u001b[0;31m \u001b[0mcores\u001b[0m \u001b[0;34m=\u001b[0m \u001b[0;34m[\u001b[0m\u001b[0mclassifier\u001b[0m\u001b[0;34m.\u001b[0m\u001b[0mpolarity_scores\u001b[0m\u001b[0;34m(\u001b[0m\u001b[0msentence\u001b[0m\u001b[0;34m)\u001b[0m\u001b[0;34m[\u001b[0m\u001b[0;34m'compound'\u001b[0m\u001b[0;34m]\u001b[0m \u001b[0;32mfor\u001b[0m \u001b[0msentence\u001b[0m \u001b[0;32min\u001b[0m \u001b[0msentences\u001b[0m\u001b[0;34m]\u001b[0m\u001b[0;34m\u001b[0m\u001b[0;34m\u001b[0m\u001b[0m\n\u001b[0m",
      "\u001b[0;31mNameError\u001b[0m: name 'sentences' is not defined"
     ]
    }
   ],
   "source": [
    "cores = [classifier.polarity_scores(sentence)['compound'] for sentence in sentences]"
   ]
  },
  {
   "cell_type": "code",
   "execution_count": 11,
   "metadata": {},
   "outputs": [
    {
     "data": {
      "text/plain": [
       "50437     After the very heavy '' Dragontown '' album Al...\n",
       "833339    The museum runs a library with photographic bo...\n",
       "467398    Jakobshavn Isbræ is a major contributor to the...\n",
       "984593    Wright also played the part of Mufasa in the o...\n",
       "379040    In 2007 , she wrote the piano piece '' The Kis...\n",
       "                                ...                        \n",
       "826207    The lyrics to the song are drawn from a poem b...\n",
       "362639    In 1940 he accompanied Rudolf Höß ( who later ...\n",
       "666226    She was nominated for an NAACP Image Award in ...\n",
       "427507    Instead , he recovered from illness and reques...\n",
       "730705    The Fire - ship is a special type of starship ...\n",
       "Name: full, Length: 15000, dtype: object"
      ]
     },
     "execution_count": 11,
     "metadata": {},
     "output_type": "execute_result"
    }
   ],
   "source": [
    "pd.read_csv('train.tsv', sep='\\t', names=['full','split'])['full'].sample(15000, random_state=42)"
   ]
  },
  {
   "cell_type": "code",
   "execution_count": 32,
   "metadata": {},
   "outputs": [],
   "source": [
    "def sst_threshold(val):\n",
    "    if val > 0.6:\n",
    "        return 2 # pos\n",
    "    elif val < 0.4:\n",
    "        return 1 # neu\n",
    "    else:\n",
    "        return 0 # neg\n",
    "# pd.read_csv('stanfordSentimentTreebank/datasetSentences.txt', sep='\\t')\n",
    "phrases = pd.read_csv('stanfordSentimentTreebank/dictionary.txt', sep='|', names=['phrase', 'phrase ids'])\n",
    "sentiment = pd.read_csv('stanfordSentimentTreebank/sentiment_labels.txt', sep='|')\n",
    "benchmark = phrases.join(sentiment, on='phrase ids', lsuffix=\"l\")[['phrase', 'sentiment values']]\n",
    "benchmark['sentiment values'] = benchmark['sentiment values'].apply(sst_threshold)\n",
    "benchmark.columns = ['sentences', 'scores']"
   ]
  },
  {
   "cell_type": "code",
   "execution_count": 33,
   "metadata": {},
   "outputs": [
    {
     "data": {
      "text/html": [
       "<div>\n",
       "<style scoped>\n",
       "    .dataframe tbody tr th:only-of-type {\n",
       "        vertical-align: middle;\n",
       "    }\n",
       "\n",
       "    .dataframe tbody tr th {\n",
       "        vertical-align: top;\n",
       "    }\n",
       "\n",
       "    .dataframe thead th {\n",
       "        text-align: right;\n",
       "    }\n",
       "</style>\n",
       "<table border=\"1\" class=\"dataframe\">\n",
       "  <thead>\n",
       "    <tr style=\"text-align: right;\">\n",
       "      <th></th>\n",
       "      <th>phrase</th>\n",
       "      <th>sentiment values</th>\n",
       "    </tr>\n",
       "  </thead>\n",
       "  <tbody>\n",
       "    <tr>\n",
       "      <th>0</th>\n",
       "      <td>!</td>\n",
       "      <td>0</td>\n",
       "    </tr>\n",
       "    <tr>\n",
       "      <th>1</th>\n",
       "      <td>! '</td>\n",
       "      <td>0</td>\n",
       "    </tr>\n",
       "    <tr>\n",
       "      <th>2</th>\n",
       "      <td>! ''</td>\n",
       "      <td>0</td>\n",
       "    </tr>\n",
       "    <tr>\n",
       "      <th>3</th>\n",
       "      <td>! Alas</td>\n",
       "      <td>0</td>\n",
       "    </tr>\n",
       "    <tr>\n",
       "      <th>4</th>\n",
       "      <td>! Brilliant</td>\n",
       "      <td>2</td>\n",
       "    </tr>\n",
       "    <tr>\n",
       "      <th>...</th>\n",
       "      <td>...</td>\n",
       "      <td>...</td>\n",
       "    </tr>\n",
       "    <tr>\n",
       "      <th>239227</th>\n",
       "      <td>zoning ordinances to protect your community fr...</td>\n",
       "      <td>1</td>\n",
       "    </tr>\n",
       "    <tr>\n",
       "      <th>239228</th>\n",
       "      <td>zzzzzzzzz</td>\n",
       "      <td>1</td>\n",
       "    </tr>\n",
       "    <tr>\n",
       "      <th>239229</th>\n",
       "      <td>élan</td>\n",
       "      <td>0</td>\n",
       "    </tr>\n",
       "    <tr>\n",
       "      <th>239230</th>\n",
       "      <td>É</td>\n",
       "      <td>0</td>\n",
       "    </tr>\n",
       "    <tr>\n",
       "      <th>239231</th>\n",
       "      <td>É um passatempo descompromissado</td>\n",
       "      <td>0</td>\n",
       "    </tr>\n",
       "  </tbody>\n",
       "</table>\n",
       "<p>239232 rows × 2 columns</p>\n",
       "</div>"
      ],
      "text/plain": [
       "                                                   phrase  sentiment values\n",
       "0                                                       !                 0\n",
       "1                                                     ! '                 0\n",
       "2                                                    ! ''                 0\n",
       "3                                                  ! Alas                 0\n",
       "4                                             ! Brilliant                 2\n",
       "...                                                   ...               ...\n",
       "239227  zoning ordinances to protect your community fr...                 1\n",
       "239228                                          zzzzzzzzz                 1\n",
       "239229                                               élan                 0\n",
       "239230                                                  É                 0\n",
       "239231                   É um passatempo descompromissado                 0\n",
       "\n",
       "[239232 rows x 2 columns]"
      ]
     },
     "execution_count": 33,
     "metadata": {},
     "output_type": "execute_result"
    }
   ],
   "source": [
    "benchmark"
   ]
  },
  {
   "cell_type": "code",
   "execution_count": null,
   "metadata": {},
   "outputs": [],
   "source": []
  }
 ],
 "metadata": {
  "kernelspec": {
   "display_name": "Python 3",
   "language": "python",
   "name": "python3"
  },
  "language_info": {
   "codemirror_mode": {
    "name": "ipython",
    "version": 3
   },
   "file_extension": ".py",
   "mimetype": "text/x-python",
   "name": "python",
   "nbconvert_exporter": "python",
   "pygments_lexer": "ipython3",
   "version": "3.7.4"
  }
 },
 "nbformat": 4,
 "nbformat_minor": 4
}
