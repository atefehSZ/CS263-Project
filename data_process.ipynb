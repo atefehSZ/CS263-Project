{
 "cells": [
  {
   "cell_type": "code",
   "execution_count": null,
   "metadata": {},
   "outputs": [],
   "source": [
    "# header = ['source', 'url', 'title', 'image', 'category', 'description', 'rank', 'pubdate', 'video']\n",
    "########\n",
    "# DATA #\n",
    "########\n",
    "\"\"\"\n",
    "CSVs from: https://github.com/mhjabreel/CharCnn_Keras/tree/master/data/ag_news_csv\n",
    "Constructed by: Xiang Zhang (xiang.zhang@nyu.edu)\n",
    "    From: http://www.di.unipi.it/~gulli/AG_corpus_of_news_articles.html \n",
    "\"\"\"\n",
    "headers = ['class', 'title', 'description']\n",
    "pd.read_csv('train.csv', names=headers)['description'][0]"
   ]
  },
  {
   "cell_type": "code",
   "execution_count": 4,
   "metadata": {},
   "outputs": [
    {
     "output_type": "execute_result",
     "data": {
      "text/plain": "0        WASHINGTON  —   Congressional Republicans have...\n1        After the bullet shells get counted, the blood...\n2        When Walt Disney’s “Bambi” opened in 1942, cri...\n3        Death may be the great equalizer, but it isn’t...\n4        SEOUL, South Korea  —   North Korea’s leader, ...\n                               ...                        \n49994    There have been many proposed solutions to the...\n49995    Maybe I feel like August won’t let go of me, b...\n49996    Diana Marcela, 28, has spent 13 years with Far...\n49997    This Christmas break, for anybody steeped in t...\n49998    Brian Nesbitt’s therapist made a suggestion in...\nName: content, Length: 99999, dtype: object"
     },
     "metadata": {},
     "execution_count": 4
    }
   ],
   "source": [
    "import pandas as pd\n",
    "import nltk\n",
    "from nltk.tokenize.punkt import PunktSentenceTokenizer\n",
    "from nltk.sentiment.vader import SentimentIntensityAnalyze\n",
    "\n",
    "\"\"\"\n",
    "All the news: https://www.kaggle.com/snapcrack/all-the-news\n",
    "\"\"\"\n",
    "# nltk.download('punkt')\n",
    "# nltk.download('vader_lexicon')\n",
    "\n",
    "tokenizer = PunktSentenceTokenizer()\n",
    "classifier = SentimentIntensityAnalyzer()\n",
    "\n",
    "# load content from csv\n",
    "articles = pd.read_csv('all-the-news/articles1.csv').append(pd.read_csv('all-the-news/articles2.csv'))\n",
    "content = articles['content']\n",
    "\n",
    "# get sentences\n",
    "sentences = []\n",
    "for i, par in content.items():\n",
    "    sentences += tokenizer.tokenize(par)\n",
    "# get scores\n",
    "scores = [classifier.polarity_scores(sentence)['compound'] for sentence in sentences]\n",
    "# to df\n",
    "data = pd.DataFrame({'sentences': sentences, 'scores': scores})\n",
    "# pickle\n",
    "data.to_pickle('data.pkl')"
   ]
  },
  {
   "cell_type": "code",
   "execution_count": 34,
   "metadata": {},
   "outputs": [],
   "source": []
  },
  {
   "cell_type": "code",
   "execution_count": null,
   "metadata": {},
   "outputs": [],
   "source": []
  }
 ],
 "metadata": {
  "language_info": {
   "codemirror_mode": {
    "name": "ipython",
    "version": 3
   },
   "file_extension": ".py",
   "mimetype": "text/x-python",
   "name": "python",
   "nbconvert_exporter": "python",
   "pygments_lexer": "ipython3",
   "version": "3.7.2-final"
  },
  "orig_nbformat": 2,
  "kernelspec": {
   "name": "python37264bitgenmlcondaa6b52c460b924db59db06dc3daa29658",
   "display_name": "Python 3.7.2 64-bit ('genml': conda)"
  }
 },
 "nbformat": 4,
 "nbformat_minor": 2
}